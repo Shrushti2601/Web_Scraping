{
 "cells": [
  {
   "cell_type": "code",
   "execution_count": 1,
   "id": "83e370dd",
   "metadata": {},
   "outputs": [],
   "source": [
    "import requests\n",
    "from bs4 import BeautifulSoup\n",
    "import pandas as pd\n",
    "\n",
    "# Initialize list to store movie data\n",
    "movies = []\n",
    "\n",
    "# Base URL\n",
    "base_url = \"https://www.imdb.com/list/ls050782187/\"\n",
    "\n",
    "# Send a GET request to the IMDb page\n",
    "response = requests.get(base_url)\n",
    "\n",
    "# Check if the request was successful (status code 200)\n",
    "if response.status_code == 200:\n",
    "    # Parse the HTML content\n",
    "    soup = BeautifulSoup(response.content, 'html.parser')\n",
    "\n",
    "    # Find all movie items on the page\n",
    "    movie_data = soup.find_all('div', class_='lister-item-content')\n",
    "    \n",
    "    # Extract movie data from each item\n",
    "    for i in movie_data:\n",
    "        title = i.h3.a.text\n",
    "        year = i.h3.find('span', class_='lister-item-year').text.strip('()')\n",
    "        genre = i.find('span', class_='genre').text.strip()\n",
    "        runtime = i.find('span', class_='runtime').text.strip()\n",
    "        rating = i.find('span', class_='ipl-rating-star__rating').text.strip()\n",
    "        description = i.find('p', class_='').text.strip()\n",
    "        director = i.find_all('p')[2].find('a').text.strip()\n",
    "        gross_tag = i.find('span', attrs={'name': 'nv'})\n",
    "        gross = gross_tag['data-value'] if gross_tag else None\n",
    "\n",
    "        movies.append([title, year, genre, runtime, rating, description, director, gross])\n",
    "\n",
    "    # Check if we have enough movies\n",
    "   "
   ]
  },
  {
   "cell_type": "code",
   "execution_count": 34,
   "id": "997ae76a",
   "metadata": {},
   "outputs": [],
   "source": [
    " while len(movies) <500:\n",
    "        next_page_link = soup.find('a', class_='flat-button lister-page-next next-page')['href']\n",
    "        next_page_url = \"https://www.imdb.com/list/ls050782187/?sort=list_order,asc&st_dt=&mode=detail&page=2\" + next_page_link\n",
    "        \n",
    "        # Send a GET request to the next page\n",
    "        response = requests.get(next_page_url)\n",
    "        \n",
    "        # Check if the request was successful (status code 200)\n",
    "        if response.status_code == 200:\n",
    "            # Parse the HTML content\n",
    "            soup = BeautifulSoup(response.content, 'html.parser')\n",
    "    \n",
    "            # Find all movie items on the page\n",
    "            movie_data = soup.find_all('div', class_='lister-item-content')\n",
    "            \n",
    "            # Extract movie data from each item\n",
    "            for i in movie_data:\n",
    "                title = i.h3.a.text\n",
    "                year = i.h3.find('span', class_='lister-item-year').text.strip('()')\n",
    "                genre = i.find('span', class_='genre').text.strip()\n",
    "                runtime = i.find('span', class_='runtime').text.strip()\n",
    "                rating = i.find('span', class_='ipl-rating-star__rating').text.strip()\n",
    "                description = i.find('p', class_='').text.strip()\n",
    "                director = i.find_all('p')[2].find('a').text.strip()\n",
    "                gross_tag = i.find('span', attrs={'name': 'nv'})\n",
    "                gross = gross_tag['data-value'] if gross_tag else None\n",
    "\n",
    "                movies.append([title, year, genre, runtime, rating, description, director, gross])\n",
    "        else:\n",
    "            print(f\"Failed to retrieve data from next page: {next_page_url}\")\n",
    "            break\n",
    "\n",
    "   \n",
    "\n",
    "\n",
    "      \n"
   ]
  },
  {
   "cell_type": "code",
   "execution_count": 35,
   "id": "037c73ea",
   "metadata": {},
   "outputs": [
    {
     "name": "stdout",
     "output_type": "stream",
     "text": [
      "                                              Title  Year                        Genre  Runtime Rating                                                                                                                                                                                                                                 Description              Director    Gross\n",
      "0                                     The Godfather  1972                 Crime, Drama  175 min    9.2                                                                                                                         The aging patriarch of an organized crime dynasty transfers control of his clandestine empire to his reluctant son.  Francis Ford Coppola  1999207\n",
      "1                          The Silence of the Lambs  1991       Crime, Drama, Thriller  118 min    8.6                                                                         A young F.B.I. cadet must receive the help of an incarcerated and manipulative cannibal killer to help catch another serial killer, a madman who skins his victims.        Jonathan Demme  1538684\n",
      "2    Star Wars: Episode V - The Empire Strikes Back  1980   Action, Adventure, Fantasy  124 min    8.7                                              After the Rebels are overpowered by the Empire, Luke Skywalker begins his Jedi training with Yoda, while his friends are pursued across the galaxy by Darth Vader and bounty hunter Boba Fett.        Irvin Kershner  1372150\n",
      "3                          The Shawshank Redemption  1994                        Drama  142 min    9.3                                                                                                 Over the course of several years, two convicts form a friendship, seeking consolation and, eventually, redemption through basic compassion.        Frank Darabont  2870230\n",
      "4                                       The Shining  1980                Drama, Horror  146 min    8.4                                                A family heads to an isolated hotel for the winter where a sinister presence influences the father into violence, while his psychic son sees horrific forebodings from both past and future.       Stanley Kubrick  1099843\n",
      "..                                              ...   ...                          ...      ...    ...                                                                                                                                                                                                                                         ...                   ...      ...\n",
      "595                              Me, Myself & Irene  2000                       Comedy  116 min    6.6                                                                                                          A nice-guy cop with Dissociative Identity Disorder must protect a woman on the run from a corrupt ex-boyfriend and his associates.        Bobby Farrelly   250326\n",
      "596                          The Darjeeling Limited  2007     Adventure, Comedy, Drama   91 min    7.2                                                                                                                     A year after their father's funeral, three brothers travel across India by train in an attempt to bond with each other.          Wes Anderson   216120\n",
      "597                                            Fear  1996              Drama, Thriller   97 min    6.2  When Nicole met David; handsome, charming, affectionate, he was everything. It seemed perfect, but soon she sees that David has a darker side. And his adoration turns to obsession, their dream into a nightmare, and her love into fear.           James Foley    53785\n",
      "598                                   Planet Terror  2007       Action, Comedy, Horror  105 min      7                                                      After an experimental bio-weapon is released, turning thousands into zombie-like creatures, it's up to a rag-tag group of survivors to stop the infected and those behind its release.      Robert Rodriguez   222399\n",
      "599                                     The Descent  2005  Adventure, Horror, Thriller   99 min    7.2                                                                                                            A caving expedition goes horribly wrong, as the explorers become trapped and ultimately pursued by a strange breed of predators.         Neil Marshall   245343\n",
      "\n",
      "[600 rows x 8 columns]\n"
     ]
    }
   ],
   "source": [
    "df = pd.DataFrame(movies, columns=['Title', 'Year', 'Genre', 'Runtime', 'Rating', 'Description', 'Director', 'Gross'])\n",
    "\n",
    "pd.set_option('display.max_colwidth', None)  # Display full content of columns\n",
    "pd.set_option('display.expand_frame_repr', False)  # Don't wrap lines in the display\n",
    "pd.set_option('display.width', None)\n",
    "    # Print DataFrame\n",
    "print(df)"
   ]
  },
  {
   "cell_type": "code",
   "execution_count": null,
   "id": "85bd2edc",
   "metadata": {},
   "outputs": [],
   "source": []
  },
  {
   "cell_type": "code",
   "execution_count": null,
   "id": "5da2a317",
   "metadata": {},
   "outputs": [],
   "source": []
  }
 ],
 "metadata": {
  "kernelspec": {
   "display_name": "Python 3 (ipykernel)",
   "language": "python",
   "name": "python3"
  },
  "language_info": {
   "codemirror_mode": {
    "name": "ipython",
    "version": 3
   },
   "file_extension": ".py",
   "mimetype": "text/x-python",
   "name": "python",
   "nbconvert_exporter": "python",
   "pygments_lexer": "ipython3",
   "version": "3.9.7"
  }
 },
 "nbformat": 4,
 "nbformat_minor": 5
}
